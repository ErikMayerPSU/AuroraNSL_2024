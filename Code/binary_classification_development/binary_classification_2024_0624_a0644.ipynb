{
  "cells": [
    {
      "cell_type": "markdown",
      "metadata": {
        "id": "UDuXkFYPcZLZ"
      },
      "source": [
        "# Binary Classification\n",
        "\n",
        "Source: https://github.com/logictensornetworks/logictensornetworks/blob/master/examples/binary_classification/binary_classification.ipynb\n",
        "\n",
        "Modified by Erik Mayer:\n",
        "+ 6/17/2024: To work on Google Colab, added !pip install...\n",
        "+ 6/20/2024: See below (undone on 6/23/2024?)\n",
        "+ 6/21/2024: Specifying array values\n",
        "+ 6/23/2024: Using data from eflux file on GitHub.\n",
        "++ 7:52 am: Switched to eflux file for 3/18/2024 2:00 UT with more interesting data, but training appears to have issues. Taking long time and sat level is nan. Number of data points too large?\n",
        "+ 6/24/2024: Experimenting with training\n",
        "\n",
        "This is a basic example in which we learn to ground unary predicate $A$ that is defined in the space of $[0,1]^2$.\n",
        "\n",
        "We define the predicate $A$ to apply to points that are close to the middle point $c=(.5,.5)$.In order to get training data, we randomly sample data from the domain. We split the sample data into two separate sets based on their euclidian distance to $c$. We then define two facts for the predicate $A$. For all points the predicate should apply to, we provide them as positive examples and vice versa for all points that the predicate does not apply to."
      ]
    },
    {
      "cell_type": "markdown",
      "source": [
        "To add a local copy of the LogicTensorNetworks repository into your Colab environment, use the following command:"
      ],
      "metadata": {
        "id": "Bdw75c5tcmmD"
      }
    },
    {
      "cell_type": "code",
      "source": [
        "!pip install git+https://github.com/logictensornetworks/logictensornetworks"
      ],
      "metadata": {
        "colab": {
          "base_uri": "https://localhost:8080/"
        },
        "id": "fpsZbpkTcdP3",
        "outputId": "2c7ef3ac-9c45-459b-c19e-00aff9ebcfb5"
      },
      "execution_count": 1,
      "outputs": [
        {
          "output_type": "stream",
          "name": "stdout",
          "text": [
            "Collecting git+https://github.com/logictensornetworks/logictensornetworks\n",
            "  Cloning https://github.com/logictensornetworks/logictensornetworks to /tmp/pip-req-build-f78erovx\n",
            "  Running command git clone --filter=blob:none --quiet https://github.com/logictensornetworks/logictensornetworks /tmp/pip-req-build-f78erovx\n",
            "  Resolved https://github.com/logictensornetworks/logictensornetworks to commit d62d101f90be8ec029de90cb1db5df01c2c58d72\n",
            "  Installing build dependencies ... \u001b[?25l\u001b[?25hdone\n",
            "  Getting requirements to build wheel ... \u001b[?25l\u001b[?25hdone\n",
            "  Preparing metadata (pyproject.toml) ... \u001b[?25l\u001b[?25hdone\n",
            "Requirement already satisfied: numpy in /usr/local/lib/python3.10/dist-packages (from ltn==2.1) (1.25.2)\n",
            "Requirement already satisfied: tensorflow in /usr/local/lib/python3.10/dist-packages (from ltn==2.1) (2.15.0)\n",
            "Requirement already satisfied: absl-py>=1.0.0 in /usr/local/lib/python3.10/dist-packages (from tensorflow->ltn==2.1) (1.4.0)\n",
            "Requirement already satisfied: astunparse>=1.6.0 in /usr/local/lib/python3.10/dist-packages (from tensorflow->ltn==2.1) (1.6.3)\n",
            "Requirement already satisfied: flatbuffers>=23.5.26 in /usr/local/lib/python3.10/dist-packages (from tensorflow->ltn==2.1) (24.3.25)\n",
            "Requirement already satisfied: gast!=0.5.0,!=0.5.1,!=0.5.2,>=0.2.1 in /usr/local/lib/python3.10/dist-packages (from tensorflow->ltn==2.1) (0.5.4)\n",
            "Requirement already satisfied: google-pasta>=0.1.1 in /usr/local/lib/python3.10/dist-packages (from tensorflow->ltn==2.1) (0.2.0)\n",
            "Requirement already satisfied: h5py>=2.9.0 in /usr/local/lib/python3.10/dist-packages (from tensorflow->ltn==2.1) (3.9.0)\n",
            "Requirement already satisfied: libclang>=13.0.0 in /usr/local/lib/python3.10/dist-packages (from tensorflow->ltn==2.1) (18.1.1)\n",
            "Requirement already satisfied: ml-dtypes~=0.2.0 in /usr/local/lib/python3.10/dist-packages (from tensorflow->ltn==2.1) (0.2.0)\n",
            "Requirement already satisfied: opt-einsum>=2.3.2 in /usr/local/lib/python3.10/dist-packages (from tensorflow->ltn==2.1) (3.3.0)\n",
            "Requirement already satisfied: packaging in /usr/local/lib/python3.10/dist-packages (from tensorflow->ltn==2.1) (24.1)\n",
            "Requirement already satisfied: protobuf!=4.21.0,!=4.21.1,!=4.21.2,!=4.21.3,!=4.21.4,!=4.21.5,<5.0.0dev,>=3.20.3 in /usr/local/lib/python3.10/dist-packages (from tensorflow->ltn==2.1) (3.20.3)\n",
            "Requirement already satisfied: setuptools in /usr/local/lib/python3.10/dist-packages (from tensorflow->ltn==2.1) (67.7.2)\n",
            "Requirement already satisfied: six>=1.12.0 in /usr/local/lib/python3.10/dist-packages (from tensorflow->ltn==2.1) (1.16.0)\n",
            "Requirement already satisfied: termcolor>=1.1.0 in /usr/local/lib/python3.10/dist-packages (from tensorflow->ltn==2.1) (2.4.0)\n",
            "Requirement already satisfied: typing-extensions>=3.6.6 in /usr/local/lib/python3.10/dist-packages (from tensorflow->ltn==2.1) (4.12.2)\n",
            "Requirement already satisfied: wrapt<1.15,>=1.11.0 in /usr/local/lib/python3.10/dist-packages (from tensorflow->ltn==2.1) (1.14.1)\n",
            "Requirement already satisfied: tensorflow-io-gcs-filesystem>=0.23.1 in /usr/local/lib/python3.10/dist-packages (from tensorflow->ltn==2.1) (0.37.0)\n",
            "Requirement already satisfied: grpcio<2.0,>=1.24.3 in /usr/local/lib/python3.10/dist-packages (from tensorflow->ltn==2.1) (1.64.1)\n",
            "Requirement already satisfied: tensorboard<2.16,>=2.15 in /usr/local/lib/python3.10/dist-packages (from tensorflow->ltn==2.1) (2.15.2)\n",
            "Requirement already satisfied: tensorflow-estimator<2.16,>=2.15.0 in /usr/local/lib/python3.10/dist-packages (from tensorflow->ltn==2.1) (2.15.0)\n",
            "Requirement already satisfied: keras<2.16,>=2.15.0 in /usr/local/lib/python3.10/dist-packages (from tensorflow->ltn==2.1) (2.15.0)\n",
            "Requirement already satisfied: wheel<1.0,>=0.23.0 in /usr/local/lib/python3.10/dist-packages (from astunparse>=1.6.0->tensorflow->ltn==2.1) (0.43.0)\n",
            "Requirement already satisfied: google-auth<3,>=1.6.3 in /usr/local/lib/python3.10/dist-packages (from tensorboard<2.16,>=2.15->tensorflow->ltn==2.1) (2.27.0)\n",
            "Requirement already satisfied: google-auth-oauthlib<2,>=0.5 in /usr/local/lib/python3.10/dist-packages (from tensorboard<2.16,>=2.15->tensorflow->ltn==2.1) (1.2.0)\n",
            "Requirement already satisfied: markdown>=2.6.8 in /usr/local/lib/python3.10/dist-packages (from tensorboard<2.16,>=2.15->tensorflow->ltn==2.1) (3.6)\n",
            "Requirement already satisfied: requests<3,>=2.21.0 in /usr/local/lib/python3.10/dist-packages (from tensorboard<2.16,>=2.15->tensorflow->ltn==2.1) (2.31.0)\n",
            "Requirement already satisfied: tensorboard-data-server<0.8.0,>=0.7.0 in /usr/local/lib/python3.10/dist-packages (from tensorboard<2.16,>=2.15->tensorflow->ltn==2.1) (0.7.2)\n",
            "Requirement already satisfied: werkzeug>=1.0.1 in /usr/local/lib/python3.10/dist-packages (from tensorboard<2.16,>=2.15->tensorflow->ltn==2.1) (3.0.3)\n",
            "Requirement already satisfied: cachetools<6.0,>=2.0.0 in /usr/local/lib/python3.10/dist-packages (from google-auth<3,>=1.6.3->tensorboard<2.16,>=2.15->tensorflow->ltn==2.1) (5.3.3)\n",
            "Requirement already satisfied: pyasn1-modules>=0.2.1 in /usr/local/lib/python3.10/dist-packages (from google-auth<3,>=1.6.3->tensorboard<2.16,>=2.15->tensorflow->ltn==2.1) (0.4.0)\n",
            "Requirement already satisfied: rsa<5,>=3.1.4 in /usr/local/lib/python3.10/dist-packages (from google-auth<3,>=1.6.3->tensorboard<2.16,>=2.15->tensorflow->ltn==2.1) (4.9)\n",
            "Requirement already satisfied: requests-oauthlib>=0.7.0 in /usr/local/lib/python3.10/dist-packages (from google-auth-oauthlib<2,>=0.5->tensorboard<2.16,>=2.15->tensorflow->ltn==2.1) (1.3.1)\n",
            "Requirement already satisfied: charset-normalizer<4,>=2 in /usr/local/lib/python3.10/dist-packages (from requests<3,>=2.21.0->tensorboard<2.16,>=2.15->tensorflow->ltn==2.1) (3.3.2)\n",
            "Requirement already satisfied: idna<4,>=2.5 in /usr/local/lib/python3.10/dist-packages (from requests<3,>=2.21.0->tensorboard<2.16,>=2.15->tensorflow->ltn==2.1) (3.7)\n",
            "Requirement already satisfied: urllib3<3,>=1.21.1 in /usr/local/lib/python3.10/dist-packages (from requests<3,>=2.21.0->tensorboard<2.16,>=2.15->tensorflow->ltn==2.1) (2.0.7)\n",
            "Requirement already satisfied: certifi>=2017.4.17 in /usr/local/lib/python3.10/dist-packages (from requests<3,>=2.21.0->tensorboard<2.16,>=2.15->tensorflow->ltn==2.1) (2024.6.2)\n",
            "Requirement already satisfied: MarkupSafe>=2.1.1 in /usr/local/lib/python3.10/dist-packages (from werkzeug>=1.0.1->tensorboard<2.16,>=2.15->tensorflow->ltn==2.1) (2.1.5)\n",
            "Requirement already satisfied: pyasn1<0.7.0,>=0.4.6 in /usr/local/lib/python3.10/dist-packages (from pyasn1-modules>=0.2.1->google-auth<3,>=1.6.3->tensorboard<2.16,>=2.15->tensorflow->ltn==2.1) (0.6.0)\n",
            "Requirement already satisfied: oauthlib>=3.0.0 in /usr/local/lib/python3.10/dist-packages (from requests-oauthlib>=0.7.0->google-auth-oauthlib<2,>=0.5->tensorboard<2.16,>=2.15->tensorflow->ltn==2.1) (3.2.2)\n",
            "Building wheels for collected packages: ltn\n",
            "  Building wheel for ltn (pyproject.toml) ... \u001b[?25l\u001b[?25hdone\n",
            "  Created wheel for ltn: filename=ltn-2.1-py3-none-any.whl size=13028 sha256=40460da0e0343624ef2f789848fe0dc1fef38afd36ce3d9f6caab4e58ad3517b\n",
            "  Stored in directory: /tmp/pip-ephem-wheel-cache-4y3zesci/wheels/85/92/5c/138f4ade7bf608ca2b334e77af7af507a4e60bcb33b088f529\n",
            "Successfully built ltn\n",
            "Installing collected packages: ltn\n",
            "Successfully installed ltn-2.1\n"
          ]
        }
      ]
    },
    {
      "cell_type": "markdown",
      "source": [],
      "metadata": {
        "id": "peLhHOmMccs9"
      }
    },
    {
      "cell_type": "code",
      "execution_count": 2,
      "metadata": {
        "id": "Ps7F2eLJcZLb"
      },
      "outputs": [],
      "source": [
        "import logging; logging.basicConfig(level=logging.INFO)\n",
        "import tensorflow as tf\n",
        "import numpy as np\n",
        "import matplotlib.pyplot as plt\n",
        "import ltn\n",
        "\n",
        "plt.rcParams['font.size'] = 12\n",
        "plt.rcParams['axes.linewidth'] = 1"
      ]
    },
    {
      "cell_type": "markdown",
      "metadata": {
        "id": "Fpz2TyS4cZLc"
      },
      "source": [
        "Sample random data from $[0,1]^2$. Our groundtruth positive training data for $A$ is close to the center (.5,.5). All other data is considered as negative examples."
      ]
    },
    {
      "cell_type": "markdown",
      "source": [
        "# E.M. modifications 6/23/2024\n",
        "\n",
        "Read data from IMF file on GitHub (see File_reading_2024_0623_a0607.ipynb)"
      ],
      "metadata": {
        "id": "T9l6h7oqNOKP"
      }
    },
    {
      "cell_type": "code",
      "source": [
        "import pandas as pd\n",
        "\n",
        "import numpy as np"
      ],
      "metadata": {
        "id": "gl65cSLQ3Mqr"
      },
      "execution_count": 3,
      "outputs": []
    },
    {
      "cell_type": "code",
      "source": [
        "# input data\n",
        "# 6/23/2024 Not currently using this data in this notebook\n",
        "\n",
        "df_IMF = pd.read_csv(r\"https://raw.githubusercontent.com/ErikMayerPSU/AuroraNSL_2024/main/data/St%20patrick's%20day%202015/20150317_IMF.txt\", header=None, nrows=1, delim_whitespace=True, on_bad_lines='skip')\n",
        "\n",
        "# Define new headers\n",
        "IMF_headers = [\"Year\", \"Month\", \"Day\", \"Hour\", \"Min\", \"Sec\", \"Msec\", \"Bx[nT]\", \"By[nT]\", \"Bz[nT]\", \"Vx[km/s]\", \"Vy[km/s]\", \"Vz[km/s]\", \"N[cm^(-3)]\", \"T[Kelvin]\"]\n",
        "\n",
        "# Set the column headers\n",
        "df_IMF.columns = IMF_headers\n",
        "\n",
        "df_IMF"
      ],
      "metadata": {
        "colab": {
          "base_uri": "https://localhost:8080/",
          "height": 89
        },
        "id": "XktK6OLu4PMM",
        "outputId": "d3dc328b-f125-4359-80bc-f9f1e2d9821f"
      },
      "execution_count": 4,
      "outputs": [
        {
          "output_type": "execute_result",
          "data": {
            "text/plain": [
              "   Year  Month  Day  Hour  Min  Sec  Msec  Bx[nT]  By[nT]  Bz[nT]  Vx[km/s]  \\\n",
              "0  2015      3   17     0    0    0     0   -4.41  -0.319   6.176  -422.716   \n",
              "\n",
              "   Vy[km/s]  Vz[km/s]  N[cm^(-3)]  T[Kelvin]  \n",
              "0    13.163    -5.809      12.914    43258.2  "
            ],
            "text/html": [
              "\n",
              "  <div id=\"df-1c5aecec-5ae2-4f6d-9478-d97497ca5015\" class=\"colab-df-container\">\n",
              "    <div>\n",
              "<style scoped>\n",
              "    .dataframe tbody tr th:only-of-type {\n",
              "        vertical-align: middle;\n",
              "    }\n",
              "\n",
              "    .dataframe tbody tr th {\n",
              "        vertical-align: top;\n",
              "    }\n",
              "\n",
              "    .dataframe thead th {\n",
              "        text-align: right;\n",
              "    }\n",
              "</style>\n",
              "<table border=\"1\" class=\"dataframe\">\n",
              "  <thead>\n",
              "    <tr style=\"text-align: right;\">\n",
              "      <th></th>\n",
              "      <th>Year</th>\n",
              "      <th>Month</th>\n",
              "      <th>Day</th>\n",
              "      <th>Hour</th>\n",
              "      <th>Min</th>\n",
              "      <th>Sec</th>\n",
              "      <th>Msec</th>\n",
              "      <th>Bx[nT]</th>\n",
              "      <th>By[nT]</th>\n",
              "      <th>Bz[nT]</th>\n",
              "      <th>Vx[km/s]</th>\n",
              "      <th>Vy[km/s]</th>\n",
              "      <th>Vz[km/s]</th>\n",
              "      <th>N[cm^(-3)]</th>\n",
              "      <th>T[Kelvin]</th>\n",
              "    </tr>\n",
              "  </thead>\n",
              "  <tbody>\n",
              "    <tr>\n",
              "      <th>0</th>\n",
              "      <td>2015</td>\n",
              "      <td>3</td>\n",
              "      <td>17</td>\n",
              "      <td>0</td>\n",
              "      <td>0</td>\n",
              "      <td>0</td>\n",
              "      <td>0</td>\n",
              "      <td>-4.41</td>\n",
              "      <td>-0.319</td>\n",
              "      <td>6.176</td>\n",
              "      <td>-422.716</td>\n",
              "      <td>13.163</td>\n",
              "      <td>-5.809</td>\n",
              "      <td>12.914</td>\n",
              "      <td>43258.2</td>\n",
              "    </tr>\n",
              "  </tbody>\n",
              "</table>\n",
              "</div>\n",
              "    <div class=\"colab-df-buttons\">\n",
              "\n",
              "  <div class=\"colab-df-container\">\n",
              "    <button class=\"colab-df-convert\" onclick=\"convertToInteractive('df-1c5aecec-5ae2-4f6d-9478-d97497ca5015')\"\n",
              "            title=\"Convert this dataframe to an interactive table.\"\n",
              "            style=\"display:none;\">\n",
              "\n",
              "  <svg xmlns=\"http://www.w3.org/2000/svg\" height=\"24px\" viewBox=\"0 -960 960 960\">\n",
              "    <path d=\"M120-120v-720h720v720H120Zm60-500h600v-160H180v160Zm220 220h160v-160H400v160Zm0 220h160v-160H400v160ZM180-400h160v-160H180v160Zm440 0h160v-160H620v160ZM180-180h160v-160H180v160Zm440 0h160v-160H620v160Z\"/>\n",
              "  </svg>\n",
              "    </button>\n",
              "\n",
              "  <style>\n",
              "    .colab-df-container {\n",
              "      display:flex;\n",
              "      gap: 12px;\n",
              "    }\n",
              "\n",
              "    .colab-df-convert {\n",
              "      background-color: #E8F0FE;\n",
              "      border: none;\n",
              "      border-radius: 50%;\n",
              "      cursor: pointer;\n",
              "      display: none;\n",
              "      fill: #1967D2;\n",
              "      height: 32px;\n",
              "      padding: 0 0 0 0;\n",
              "      width: 32px;\n",
              "    }\n",
              "\n",
              "    .colab-df-convert:hover {\n",
              "      background-color: #E2EBFA;\n",
              "      box-shadow: 0px 1px 2px rgba(60, 64, 67, 0.3), 0px 1px 3px 1px rgba(60, 64, 67, 0.15);\n",
              "      fill: #174EA6;\n",
              "    }\n",
              "\n",
              "    .colab-df-buttons div {\n",
              "      margin-bottom: 4px;\n",
              "    }\n",
              "\n",
              "    [theme=dark] .colab-df-convert {\n",
              "      background-color: #3B4455;\n",
              "      fill: #D2E3FC;\n",
              "    }\n",
              "\n",
              "    [theme=dark] .colab-df-convert:hover {\n",
              "      background-color: #434B5C;\n",
              "      box-shadow: 0px 1px 3px 1px rgba(0, 0, 0, 0.15);\n",
              "      filter: drop-shadow(0px 1px 2px rgba(0, 0, 0, 0.3));\n",
              "      fill: #FFFFFF;\n",
              "    }\n",
              "  </style>\n",
              "\n",
              "    <script>\n",
              "      const buttonEl =\n",
              "        document.querySelector('#df-1c5aecec-5ae2-4f6d-9478-d97497ca5015 button.colab-df-convert');\n",
              "      buttonEl.style.display =\n",
              "        google.colab.kernel.accessAllowed ? 'block' : 'none';\n",
              "\n",
              "      async function convertToInteractive(key) {\n",
              "        const element = document.querySelector('#df-1c5aecec-5ae2-4f6d-9478-d97497ca5015');\n",
              "        const dataTable =\n",
              "          await google.colab.kernel.invokeFunction('convertToInteractive',\n",
              "                                                    [key], {});\n",
              "        if (!dataTable) return;\n",
              "\n",
              "        const docLinkHtml = 'Like what you see? Visit the ' +\n",
              "          '<a target=\"_blank\" href=https://colab.research.google.com/notebooks/data_table.ipynb>data table notebook</a>'\n",
              "          + ' to learn more about interactive tables.';\n",
              "        element.innerHTML = '';\n",
              "        dataTable['output_type'] = 'display_data';\n",
              "        await google.colab.output.renderOutput(dataTable, element);\n",
              "        const docLink = document.createElement('div');\n",
              "        docLink.innerHTML = docLinkHtml;\n",
              "        element.appendChild(docLink);\n",
              "      }\n",
              "    </script>\n",
              "  </div>\n",
              "\n",
              "\n",
              "  <div id=\"id_6e2414b6-fbcd-4389-84a5-c8418b08c1ea\">\n",
              "    <style>\n",
              "      .colab-df-generate {\n",
              "        background-color: #E8F0FE;\n",
              "        border: none;\n",
              "        border-radius: 50%;\n",
              "        cursor: pointer;\n",
              "        display: none;\n",
              "        fill: #1967D2;\n",
              "        height: 32px;\n",
              "        padding: 0 0 0 0;\n",
              "        width: 32px;\n",
              "      }\n",
              "\n",
              "      .colab-df-generate:hover {\n",
              "        background-color: #E2EBFA;\n",
              "        box-shadow: 0px 1px 2px rgba(60, 64, 67, 0.3), 0px 1px 3px 1px rgba(60, 64, 67, 0.15);\n",
              "        fill: #174EA6;\n",
              "      }\n",
              "\n",
              "      [theme=dark] .colab-df-generate {\n",
              "        background-color: #3B4455;\n",
              "        fill: #D2E3FC;\n",
              "      }\n",
              "\n",
              "      [theme=dark] .colab-df-generate:hover {\n",
              "        background-color: #434B5C;\n",
              "        box-shadow: 0px 1px 3px 1px rgba(0, 0, 0, 0.15);\n",
              "        filter: drop-shadow(0px 1px 2px rgba(0, 0, 0, 0.3));\n",
              "        fill: #FFFFFF;\n",
              "      }\n",
              "    </style>\n",
              "    <button class=\"colab-df-generate\" onclick=\"generateWithVariable('df_IMF')\"\n",
              "            title=\"Generate code using this dataframe.\"\n",
              "            style=\"display:none;\">\n",
              "\n",
              "  <svg xmlns=\"http://www.w3.org/2000/svg\" height=\"24px\"viewBox=\"0 0 24 24\"\n",
              "       width=\"24px\">\n",
              "    <path d=\"M7,19H8.4L18.45,9,17,7.55,7,17.6ZM5,21V16.75L18.45,3.32a2,2,0,0,1,2.83,0l1.4,1.43a1.91,1.91,0,0,1,.58,1.4,1.91,1.91,0,0,1-.58,1.4L9.25,21ZM18.45,9,17,7.55Zm-12,3A5.31,5.31,0,0,0,4.9,8.1,5.31,5.31,0,0,0,1,6.5,5.31,5.31,0,0,0,4.9,4.9,5.31,5.31,0,0,0,6.5,1,5.31,5.31,0,0,0,8.1,4.9,5.31,5.31,0,0,0,12,6.5,5.46,5.46,0,0,0,6.5,12Z\"/>\n",
              "  </svg>\n",
              "    </button>\n",
              "    <script>\n",
              "      (() => {\n",
              "      const buttonEl =\n",
              "        document.querySelector('#id_6e2414b6-fbcd-4389-84a5-c8418b08c1ea button.colab-df-generate');\n",
              "      buttonEl.style.display =\n",
              "        google.colab.kernel.accessAllowed ? 'block' : 'none';\n",
              "\n",
              "      buttonEl.onclick = () => {\n",
              "        google.colab.notebook.generateWithVariable('df_IMF');\n",
              "      }\n",
              "      })();\n",
              "    </script>\n",
              "  </div>\n",
              "\n",
              "    </div>\n",
              "  </div>\n"
            ],
            "application/vnd.google.colaboratory.intrinsic+json": {
              "type": "dataframe",
              "variable_name": "df_IMF",
              "summary": "{\n  \"name\": \"df_IMF\",\n  \"rows\": 1,\n  \"fields\": [\n    {\n      \"column\": \"Year\",\n      \"properties\": {\n        \"dtype\": \"number\",\n        \"std\": null,\n        \"min\": 2015,\n        \"max\": 2015,\n        \"num_unique_values\": 1,\n        \"samples\": [\n          2015\n        ],\n        \"semantic_type\": \"\",\n        \"description\": \"\"\n      }\n    },\n    {\n      \"column\": \"Month\",\n      \"properties\": {\n        \"dtype\": \"number\",\n        \"std\": null,\n        \"min\": 3,\n        \"max\": 3,\n        \"num_unique_values\": 1,\n        \"samples\": [\n          3\n        ],\n        \"semantic_type\": \"\",\n        \"description\": \"\"\n      }\n    },\n    {\n      \"column\": \"Day\",\n      \"properties\": {\n        \"dtype\": \"number\",\n        \"std\": null,\n        \"min\": 17,\n        \"max\": 17,\n        \"num_unique_values\": 1,\n        \"samples\": [\n          17\n        ],\n        \"semantic_type\": \"\",\n        \"description\": \"\"\n      }\n    },\n    {\n      \"column\": \"Hour\",\n      \"properties\": {\n        \"dtype\": \"number\",\n        \"std\": null,\n        \"min\": 0,\n        \"max\": 0,\n        \"num_unique_values\": 1,\n        \"samples\": [\n          0\n        ],\n        \"semantic_type\": \"\",\n        \"description\": \"\"\n      }\n    },\n    {\n      \"column\": \"Min\",\n      \"properties\": {\n        \"dtype\": \"number\",\n        \"std\": null,\n        \"min\": 0,\n        \"max\": 0,\n        \"num_unique_values\": 1,\n        \"samples\": [\n          0\n        ],\n        \"semantic_type\": \"\",\n        \"description\": \"\"\n      }\n    },\n    {\n      \"column\": \"Sec\",\n      \"properties\": {\n        \"dtype\": \"number\",\n        \"std\": null,\n        \"min\": 0,\n        \"max\": 0,\n        \"num_unique_values\": 1,\n        \"samples\": [\n          0\n        ],\n        \"semantic_type\": \"\",\n        \"description\": \"\"\n      }\n    },\n    {\n      \"column\": \"Msec\",\n      \"properties\": {\n        \"dtype\": \"number\",\n        \"std\": null,\n        \"min\": 0,\n        \"max\": 0,\n        \"num_unique_values\": 1,\n        \"samples\": [\n          0\n        ],\n        \"semantic_type\": \"\",\n        \"description\": \"\"\n      }\n    },\n    {\n      \"column\": \"Bx[nT]\",\n      \"properties\": {\n        \"dtype\": \"number\",\n        \"std\": null,\n        \"min\": -4.41,\n        \"max\": -4.41,\n        \"num_unique_values\": 1,\n        \"samples\": [\n          -4.41\n        ],\n        \"semantic_type\": \"\",\n        \"description\": \"\"\n      }\n    },\n    {\n      \"column\": \"By[nT]\",\n      \"properties\": {\n        \"dtype\": \"number\",\n        \"std\": null,\n        \"min\": -0.319,\n        \"max\": -0.319,\n        \"num_unique_values\": 1,\n        \"samples\": [\n          -0.319\n        ],\n        \"semantic_type\": \"\",\n        \"description\": \"\"\n      }\n    },\n    {\n      \"column\": \"Bz[nT]\",\n      \"properties\": {\n        \"dtype\": \"number\",\n        \"std\": null,\n        \"min\": 6.176,\n        \"max\": 6.176,\n        \"num_unique_values\": 1,\n        \"samples\": [\n          6.176\n        ],\n        \"semantic_type\": \"\",\n        \"description\": \"\"\n      }\n    },\n    {\n      \"column\": \"Vx[km/s]\",\n      \"properties\": {\n        \"dtype\": \"number\",\n        \"std\": null,\n        \"min\": -422.716,\n        \"max\": -422.716,\n        \"num_unique_values\": 1,\n        \"samples\": [\n          -422.716\n        ],\n        \"semantic_type\": \"\",\n        \"description\": \"\"\n      }\n    },\n    {\n      \"column\": \"Vy[km/s]\",\n      \"properties\": {\n        \"dtype\": \"number\",\n        \"std\": null,\n        \"min\": 13.163,\n        \"max\": 13.163,\n        \"num_unique_values\": 1,\n        \"samples\": [\n          13.163\n        ],\n        \"semantic_type\": \"\",\n        \"description\": \"\"\n      }\n    },\n    {\n      \"column\": \"Vz[km/s]\",\n      \"properties\": {\n        \"dtype\": \"number\",\n        \"std\": null,\n        \"min\": -5.809,\n        \"max\": -5.809,\n        \"num_unique_values\": 1,\n        \"samples\": [\n          -5.809\n        ],\n        \"semantic_type\": \"\",\n        \"description\": \"\"\n      }\n    },\n    {\n      \"column\": \"N[cm^(-3)]\",\n      \"properties\": {\n        \"dtype\": \"number\",\n        \"std\": null,\n        \"min\": 12.914,\n        \"max\": 12.914,\n        \"num_unique_values\": 1,\n        \"samples\": [\n          12.914\n        ],\n        \"semantic_type\": \"\",\n        \"description\": \"\"\n      }\n    },\n    {\n      \"column\": \"T[Kelvin]\",\n      \"properties\": {\n        \"dtype\": \"number\",\n        \"std\": null,\n        \"min\": 43258.2,\n        \"max\": 43258.2,\n        \"num_unique_values\": 1,\n        \"samples\": [\n          43258.2\n        ],\n        \"semantic_type\": \"\",\n        \"description\": \"\"\n      }\n    }\n  ]\n}"
            }
          },
          "metadata": {},
          "execution_count": 4
        }
      ]
    },
    {
      "cell_type": "code",
      "source": [
        "# output data\n",
        "\n",
        "df_eflux = pd.read_csv(r\"https://raw.githubusercontent.com/ErikMayerPSU/AuroraNSL_2024/main/data/St%20patrick's%20day%202015/Eflux/20150318_0200UT_Eflux_e%2Call.txt\", header=None, skiprows=1, nrows=7680, delim_whitespace=True, on_bad_lines='skip')\n",
        "\n",
        "# Define new headers\n",
        "eflux_headers = [\"MLT\", \"ML\", \"[mW m^-2]\"]\n",
        "\n",
        "# Set the column headers\n",
        "df_eflux.columns = eflux_headers\n",
        "\n",
        "df_eflux"
      ],
      "metadata": {
        "colab": {
          "base_uri": "https://localhost:8080/",
          "height": 423
        },
        "id": "4yg6zGzx4ilm",
        "outputId": "3caa8b14-a1cd-42d2-abae-196f69edb6dd"
      },
      "execution_count": 5,
      "outputs": [
        {
          "output_type": "execute_result",
          "data": {
            "text/plain": [
              "        MLT    ML  [mW m^-2]\n",
              "0      0.00  50.0   0.009205\n",
              "1      0.00  50.5   0.009303\n",
              "2      0.00  51.0   0.005775\n",
              "3      0.00  51.5   0.020590\n",
              "4      0.00  52.0   0.000387\n",
              "...     ...   ...        ...\n",
              "7675  23.75  87.5   0.023140\n",
              "7676  23.75  88.0   0.022190\n",
              "7677  23.75  88.5   0.023080\n",
              "7678  23.75  89.0   0.016270\n",
              "7679  23.75  89.5   0.027940\n",
              "\n",
              "[7680 rows x 3 columns]"
            ],
            "text/html": [
              "\n",
              "  <div id=\"df-ef55f49b-32d8-4b4a-be5a-b9cced9f5fcb\" class=\"colab-df-container\">\n",
              "    <div>\n",
              "<style scoped>\n",
              "    .dataframe tbody tr th:only-of-type {\n",
              "        vertical-align: middle;\n",
              "    }\n",
              "\n",
              "    .dataframe tbody tr th {\n",
              "        vertical-align: top;\n",
              "    }\n",
              "\n",
              "    .dataframe thead th {\n",
              "        text-align: right;\n",
              "    }\n",
              "</style>\n",
              "<table border=\"1\" class=\"dataframe\">\n",
              "  <thead>\n",
              "    <tr style=\"text-align: right;\">\n",
              "      <th></th>\n",
              "      <th>MLT</th>\n",
              "      <th>ML</th>\n",
              "      <th>[mW m^-2]</th>\n",
              "    </tr>\n",
              "  </thead>\n",
              "  <tbody>\n",
              "    <tr>\n",
              "      <th>0</th>\n",
              "      <td>0.00</td>\n",
              "      <td>50.0</td>\n",
              "      <td>0.009205</td>\n",
              "    </tr>\n",
              "    <tr>\n",
              "      <th>1</th>\n",
              "      <td>0.00</td>\n",
              "      <td>50.5</td>\n",
              "      <td>0.009303</td>\n",
              "    </tr>\n",
              "    <tr>\n",
              "      <th>2</th>\n",
              "      <td>0.00</td>\n",
              "      <td>51.0</td>\n",
              "      <td>0.005775</td>\n",
              "    </tr>\n",
              "    <tr>\n",
              "      <th>3</th>\n",
              "      <td>0.00</td>\n",
              "      <td>51.5</td>\n",
              "      <td>0.020590</td>\n",
              "    </tr>\n",
              "    <tr>\n",
              "      <th>4</th>\n",
              "      <td>0.00</td>\n",
              "      <td>52.0</td>\n",
              "      <td>0.000387</td>\n",
              "    </tr>\n",
              "    <tr>\n",
              "      <th>...</th>\n",
              "      <td>...</td>\n",
              "      <td>...</td>\n",
              "      <td>...</td>\n",
              "    </tr>\n",
              "    <tr>\n",
              "      <th>7675</th>\n",
              "      <td>23.75</td>\n",
              "      <td>87.5</td>\n",
              "      <td>0.023140</td>\n",
              "    </tr>\n",
              "    <tr>\n",
              "      <th>7676</th>\n",
              "      <td>23.75</td>\n",
              "      <td>88.0</td>\n",
              "      <td>0.022190</td>\n",
              "    </tr>\n",
              "    <tr>\n",
              "      <th>7677</th>\n",
              "      <td>23.75</td>\n",
              "      <td>88.5</td>\n",
              "      <td>0.023080</td>\n",
              "    </tr>\n",
              "    <tr>\n",
              "      <th>7678</th>\n",
              "      <td>23.75</td>\n",
              "      <td>89.0</td>\n",
              "      <td>0.016270</td>\n",
              "    </tr>\n",
              "    <tr>\n",
              "      <th>7679</th>\n",
              "      <td>23.75</td>\n",
              "      <td>89.5</td>\n",
              "      <td>0.027940</td>\n",
              "    </tr>\n",
              "  </tbody>\n",
              "</table>\n",
              "<p>7680 rows × 3 columns</p>\n",
              "</div>\n",
              "    <div class=\"colab-df-buttons\">\n",
              "\n",
              "  <div class=\"colab-df-container\">\n",
              "    <button class=\"colab-df-convert\" onclick=\"convertToInteractive('df-ef55f49b-32d8-4b4a-be5a-b9cced9f5fcb')\"\n",
              "            title=\"Convert this dataframe to an interactive table.\"\n",
              "            style=\"display:none;\">\n",
              "\n",
              "  <svg xmlns=\"http://www.w3.org/2000/svg\" height=\"24px\" viewBox=\"0 -960 960 960\">\n",
              "    <path d=\"M120-120v-720h720v720H120Zm60-500h600v-160H180v160Zm220 220h160v-160H400v160Zm0 220h160v-160H400v160ZM180-400h160v-160H180v160Zm440 0h160v-160H620v160ZM180-180h160v-160H180v160Zm440 0h160v-160H620v160Z\"/>\n",
              "  </svg>\n",
              "    </button>\n",
              "\n",
              "  <style>\n",
              "    .colab-df-container {\n",
              "      display:flex;\n",
              "      gap: 12px;\n",
              "    }\n",
              "\n",
              "    .colab-df-convert {\n",
              "      background-color: #E8F0FE;\n",
              "      border: none;\n",
              "      border-radius: 50%;\n",
              "      cursor: pointer;\n",
              "      display: none;\n",
              "      fill: #1967D2;\n",
              "      height: 32px;\n",
              "      padding: 0 0 0 0;\n",
              "      width: 32px;\n",
              "    }\n",
              "\n",
              "    .colab-df-convert:hover {\n",
              "      background-color: #E2EBFA;\n",
              "      box-shadow: 0px 1px 2px rgba(60, 64, 67, 0.3), 0px 1px 3px 1px rgba(60, 64, 67, 0.15);\n",
              "      fill: #174EA6;\n",
              "    }\n",
              "\n",
              "    .colab-df-buttons div {\n",
              "      margin-bottom: 4px;\n",
              "    }\n",
              "\n",
              "    [theme=dark] .colab-df-convert {\n",
              "      background-color: #3B4455;\n",
              "      fill: #D2E3FC;\n",
              "    }\n",
              "\n",
              "    [theme=dark] .colab-df-convert:hover {\n",
              "      background-color: #434B5C;\n",
              "      box-shadow: 0px 1px 3px 1px rgba(0, 0, 0, 0.15);\n",
              "      filter: drop-shadow(0px 1px 2px rgba(0, 0, 0, 0.3));\n",
              "      fill: #FFFFFF;\n",
              "    }\n",
              "  </style>\n",
              "\n",
              "    <script>\n",
              "      const buttonEl =\n",
              "        document.querySelector('#df-ef55f49b-32d8-4b4a-be5a-b9cced9f5fcb button.colab-df-convert');\n",
              "      buttonEl.style.display =\n",
              "        google.colab.kernel.accessAllowed ? 'block' : 'none';\n",
              "\n",
              "      async function convertToInteractive(key) {\n",
              "        const element = document.querySelector('#df-ef55f49b-32d8-4b4a-be5a-b9cced9f5fcb');\n",
              "        const dataTable =\n",
              "          await google.colab.kernel.invokeFunction('convertToInteractive',\n",
              "                                                    [key], {});\n",
              "        if (!dataTable) return;\n",
              "\n",
              "        const docLinkHtml = 'Like what you see? Visit the ' +\n",
              "          '<a target=\"_blank\" href=https://colab.research.google.com/notebooks/data_table.ipynb>data table notebook</a>'\n",
              "          + ' to learn more about interactive tables.';\n",
              "        element.innerHTML = '';\n",
              "        dataTable['output_type'] = 'display_data';\n",
              "        await google.colab.output.renderOutput(dataTable, element);\n",
              "        const docLink = document.createElement('div');\n",
              "        docLink.innerHTML = docLinkHtml;\n",
              "        element.appendChild(docLink);\n",
              "      }\n",
              "    </script>\n",
              "  </div>\n",
              "\n",
              "\n",
              "<div id=\"df-5f535ffc-4445-469f-9826-2a021f9e10d9\">\n",
              "  <button class=\"colab-df-quickchart\" onclick=\"quickchart('df-5f535ffc-4445-469f-9826-2a021f9e10d9')\"\n",
              "            title=\"Suggest charts\"\n",
              "            style=\"display:none;\">\n",
              "\n",
              "<svg xmlns=\"http://www.w3.org/2000/svg\" height=\"24px\"viewBox=\"0 0 24 24\"\n",
              "     width=\"24px\">\n",
              "    <g>\n",
              "        <path d=\"M19 3H5c-1.1 0-2 .9-2 2v14c0 1.1.9 2 2 2h14c1.1 0 2-.9 2-2V5c0-1.1-.9-2-2-2zM9 17H7v-7h2v7zm4 0h-2V7h2v10zm4 0h-2v-4h2v4z\"/>\n",
              "    </g>\n",
              "</svg>\n",
              "  </button>\n",
              "\n",
              "<style>\n",
              "  .colab-df-quickchart {\n",
              "      --bg-color: #E8F0FE;\n",
              "      --fill-color: #1967D2;\n",
              "      --hover-bg-color: #E2EBFA;\n",
              "      --hover-fill-color: #174EA6;\n",
              "      --disabled-fill-color: #AAA;\n",
              "      --disabled-bg-color: #DDD;\n",
              "  }\n",
              "\n",
              "  [theme=dark] .colab-df-quickchart {\n",
              "      --bg-color: #3B4455;\n",
              "      --fill-color: #D2E3FC;\n",
              "      --hover-bg-color: #434B5C;\n",
              "      --hover-fill-color: #FFFFFF;\n",
              "      --disabled-bg-color: #3B4455;\n",
              "      --disabled-fill-color: #666;\n",
              "  }\n",
              "\n",
              "  .colab-df-quickchart {\n",
              "    background-color: var(--bg-color);\n",
              "    border: none;\n",
              "    border-radius: 50%;\n",
              "    cursor: pointer;\n",
              "    display: none;\n",
              "    fill: var(--fill-color);\n",
              "    height: 32px;\n",
              "    padding: 0;\n",
              "    width: 32px;\n",
              "  }\n",
              "\n",
              "  .colab-df-quickchart:hover {\n",
              "    background-color: var(--hover-bg-color);\n",
              "    box-shadow: 0 1px 2px rgba(60, 64, 67, 0.3), 0 1px 3px 1px rgba(60, 64, 67, 0.15);\n",
              "    fill: var(--button-hover-fill-color);\n",
              "  }\n",
              "\n",
              "  .colab-df-quickchart-complete:disabled,\n",
              "  .colab-df-quickchart-complete:disabled:hover {\n",
              "    background-color: var(--disabled-bg-color);\n",
              "    fill: var(--disabled-fill-color);\n",
              "    box-shadow: none;\n",
              "  }\n",
              "\n",
              "  .colab-df-spinner {\n",
              "    border: 2px solid var(--fill-color);\n",
              "    border-color: transparent;\n",
              "    border-bottom-color: var(--fill-color);\n",
              "    animation:\n",
              "      spin 1s steps(1) infinite;\n",
              "  }\n",
              "\n",
              "  @keyframes spin {\n",
              "    0% {\n",
              "      border-color: transparent;\n",
              "      border-bottom-color: var(--fill-color);\n",
              "      border-left-color: var(--fill-color);\n",
              "    }\n",
              "    20% {\n",
              "      border-color: transparent;\n",
              "      border-left-color: var(--fill-color);\n",
              "      border-top-color: var(--fill-color);\n",
              "    }\n",
              "    30% {\n",
              "      border-color: transparent;\n",
              "      border-left-color: var(--fill-color);\n",
              "      border-top-color: var(--fill-color);\n",
              "      border-right-color: var(--fill-color);\n",
              "    }\n",
              "    40% {\n",
              "      border-color: transparent;\n",
              "      border-right-color: var(--fill-color);\n",
              "      border-top-color: var(--fill-color);\n",
              "    }\n",
              "    60% {\n",
              "      border-color: transparent;\n",
              "      border-right-color: var(--fill-color);\n",
              "    }\n",
              "    80% {\n",
              "      border-color: transparent;\n",
              "      border-right-color: var(--fill-color);\n",
              "      border-bottom-color: var(--fill-color);\n",
              "    }\n",
              "    90% {\n",
              "      border-color: transparent;\n",
              "      border-bottom-color: var(--fill-color);\n",
              "    }\n",
              "  }\n",
              "</style>\n",
              "\n",
              "  <script>\n",
              "    async function quickchart(key) {\n",
              "      const quickchartButtonEl =\n",
              "        document.querySelector('#' + key + ' button');\n",
              "      quickchartButtonEl.disabled = true;  // To prevent multiple clicks.\n",
              "      quickchartButtonEl.classList.add('colab-df-spinner');\n",
              "      try {\n",
              "        const charts = await google.colab.kernel.invokeFunction(\n",
              "            'suggestCharts', [key], {});\n",
              "      } catch (error) {\n",
              "        console.error('Error during call to suggestCharts:', error);\n",
              "      }\n",
              "      quickchartButtonEl.classList.remove('colab-df-spinner');\n",
              "      quickchartButtonEl.classList.add('colab-df-quickchart-complete');\n",
              "    }\n",
              "    (() => {\n",
              "      let quickchartButtonEl =\n",
              "        document.querySelector('#df-5f535ffc-4445-469f-9826-2a021f9e10d9 button');\n",
              "      quickchartButtonEl.style.display =\n",
              "        google.colab.kernel.accessAllowed ? 'block' : 'none';\n",
              "    })();\n",
              "  </script>\n",
              "</div>\n",
              "\n",
              "  <div id=\"id_d8b1a942-2b72-46f9-a38d-cfeb39088443\">\n",
              "    <style>\n",
              "      .colab-df-generate {\n",
              "        background-color: #E8F0FE;\n",
              "        border: none;\n",
              "        border-radius: 50%;\n",
              "        cursor: pointer;\n",
              "        display: none;\n",
              "        fill: #1967D2;\n",
              "        height: 32px;\n",
              "        padding: 0 0 0 0;\n",
              "        width: 32px;\n",
              "      }\n",
              "\n",
              "      .colab-df-generate:hover {\n",
              "        background-color: #E2EBFA;\n",
              "        box-shadow: 0px 1px 2px rgba(60, 64, 67, 0.3), 0px 1px 3px 1px rgba(60, 64, 67, 0.15);\n",
              "        fill: #174EA6;\n",
              "      }\n",
              "\n",
              "      [theme=dark] .colab-df-generate {\n",
              "        background-color: #3B4455;\n",
              "        fill: #D2E3FC;\n",
              "      }\n",
              "\n",
              "      [theme=dark] .colab-df-generate:hover {\n",
              "        background-color: #434B5C;\n",
              "        box-shadow: 0px 1px 3px 1px rgba(0, 0, 0, 0.15);\n",
              "        filter: drop-shadow(0px 1px 2px rgba(0, 0, 0, 0.3));\n",
              "        fill: #FFFFFF;\n",
              "      }\n",
              "    </style>\n",
              "    <button class=\"colab-df-generate\" onclick=\"generateWithVariable('df_eflux')\"\n",
              "            title=\"Generate code using this dataframe.\"\n",
              "            style=\"display:none;\">\n",
              "\n",
              "  <svg xmlns=\"http://www.w3.org/2000/svg\" height=\"24px\"viewBox=\"0 0 24 24\"\n",
              "       width=\"24px\">\n",
              "    <path d=\"M7,19H8.4L18.45,9,17,7.55,7,17.6ZM5,21V16.75L18.45,3.32a2,2,0,0,1,2.83,0l1.4,1.43a1.91,1.91,0,0,1,.58,1.4,1.91,1.91,0,0,1-.58,1.4L9.25,21ZM18.45,9,17,7.55Zm-12,3A5.31,5.31,0,0,0,4.9,8.1,5.31,5.31,0,0,0,1,6.5,5.31,5.31,0,0,0,4.9,4.9,5.31,5.31,0,0,0,6.5,1,5.31,5.31,0,0,0,8.1,4.9,5.31,5.31,0,0,0,12,6.5,5.46,5.46,0,0,0,6.5,12Z\"/>\n",
              "  </svg>\n",
              "    </button>\n",
              "    <script>\n",
              "      (() => {\n",
              "      const buttonEl =\n",
              "        document.querySelector('#id_d8b1a942-2b72-46f9-a38d-cfeb39088443 button.colab-df-generate');\n",
              "      buttonEl.style.display =\n",
              "        google.colab.kernel.accessAllowed ? 'block' : 'none';\n",
              "\n",
              "      buttonEl.onclick = () => {\n",
              "        google.colab.notebook.generateWithVariable('df_eflux');\n",
              "      }\n",
              "      })();\n",
              "    </script>\n",
              "  </div>\n",
              "\n",
              "    </div>\n",
              "  </div>\n"
            ],
            "application/vnd.google.colaboratory.intrinsic+json": {
              "type": "dataframe",
              "variable_name": "df_eflux",
              "summary": "{\n  \"name\": \"df_eflux\",\n  \"rows\": 7680,\n  \"fields\": [\n    {\n      \"column\": \"MLT\",\n      \"properties\": {\n        \"dtype\": \"number\",\n        \"std\": 6.928278415473646,\n        \"min\": 0.0,\n        \"max\": 23.75,\n        \"num_unique_values\": 96,\n        \"samples\": [\n          20.0,\n          19.25,\n          18.25\n        ],\n        \"semantic_type\": \"\",\n        \"description\": \"\"\n      }\n    },\n    {\n      \"column\": \"ML\",\n      \"properties\": {\n        \"dtype\": \"number\",\n        \"std\": 11.54685501160121,\n        \"min\": 50.0,\n        \"max\": 89.5,\n        \"num_unique_values\": 80,\n        \"samples\": [\n          65.0,\n          50.0,\n          61.0\n        ],\n        \"semantic_type\": \"\",\n        \"description\": \"\"\n      }\n    },\n    {\n      \"column\": \"[mW m^-2]\",\n      \"properties\": {\n        \"dtype\": \"number\",\n        \"std\": 1.6000218637391748,\n        \"min\": 0.0,\n        \"max\": 9.672,\n        \"num_unique_values\": 5924,\n        \"samples\": [\n          0.03377,\n          0.3883,\n          1.01\n        ],\n        \"semantic_type\": \"\",\n        \"description\": \"\"\n      }\n    }\n  ]\n}"
            }
          },
          "metadata": {},
          "execution_count": 5
        }
      ]
    },
    {
      "cell_type": "code",
      "source": [
        "array_eflux = df_eflux.to_numpy()\n",
        "array_eflux"
      ],
      "metadata": {
        "colab": {
          "base_uri": "https://localhost:8080/"
        },
        "id": "WhaInUYC4nj4",
        "outputId": "1231c097-c941-40a6-e2c4-9b9e3ecc0b7f"
      },
      "execution_count": 6,
      "outputs": [
        {
          "output_type": "execute_result",
          "data": {
            "text/plain": [
              "array([[0.000e+00, 5.000e+01, 9.205e-03],\n",
              "       [0.000e+00, 5.050e+01, 9.303e-03],\n",
              "       [0.000e+00, 5.100e+01, 5.775e-03],\n",
              "       ...,\n",
              "       [2.375e+01, 8.850e+01, 2.308e-02],\n",
              "       [2.375e+01, 8.900e+01, 1.627e-02],\n",
              "       [2.375e+01, 8.950e+01, 2.794e-02]])"
            ]
          },
          "metadata": {},
          "execution_count": 6
        }
      ]
    },
    {
      "cell_type": "code",
      "source": [
        "array_eflux_mag_coordinates = array_eflux[0:7680,0:2]\n",
        "array_eflux_mag_coordinates\n",
        "data = array_eflux_mag_coordinates\n",
        "data"
      ],
      "metadata": {
        "colab": {
          "base_uri": "https://localhost:8080/"
        },
        "id": "aWhKCYaH4tIa",
        "outputId": "153ffbce-89cd-4a07-f24b-25933a6e33c4"
      },
      "execution_count": 7,
      "outputs": [
        {
          "output_type": "execute_result",
          "data": {
            "text/plain": [
              "array([[ 0.  , 50.  ],\n",
              "       [ 0.  , 50.5 ],\n",
              "       [ 0.  , 51.  ],\n",
              "       ...,\n",
              "       [23.75, 88.5 ],\n",
              "       [23.75, 89.  ],\n",
              "       [23.75, 89.5 ]])"
            ]
          },
          "metadata": {},
          "execution_count": 7
        }
      ]
    },
    {
      "cell_type": "code",
      "source": [
        "array_eflux_flux = array_eflux[0:7680,2:3]\n",
        "print(array_eflux_flux)\n",
        "# Flatten to 1-D array\n",
        "array_eflux_flux_flatten = array_eflux_flux.flatten(order = 'C')\n",
        "print(array_eflux_flux_flatten)\n"
      ],
      "metadata": {
        "colab": {
          "base_uri": "https://localhost:8080/"
        },
        "id": "YaSsyGSH41xO",
        "outputId": "7eb0ee48-7cc3-4cbd-c67b-bd52c4431c40"
      },
      "execution_count": 8,
      "outputs": [
        {
          "output_type": "stream",
          "name": "stdout",
          "text": [
            "[[0.009205]\n",
            " [0.009303]\n",
            " [0.005775]\n",
            " ...\n",
            " [0.02308 ]\n",
            " [0.01627 ]\n",
            " [0.02794 ]]\n",
            "[0.009205 0.009303 0.005775 ... 0.02308  0.01627  0.02794 ]\n"
          ]
        }
      ]
    },
    {
      "cell_type": "code",
      "source": [
        "# Using aurora visibility threshold = 1\n",
        "labels = array_eflux_flux_flatten > 1\n",
        "# labels_b = np.sum(np.square(data_b-[.5,.5]),axis=1)<.16\n",
        "print(labels)"
      ],
      "metadata": {
        "colab": {
          "base_uri": "https://localhost:8080/"
        },
        "id": "1tg1GL0G42JH",
        "outputId": "f5bb1a2b-42a0-42f7-f5b2-a389a9f7be0a"
      },
      "execution_count": 9,
      "outputs": [
        {
          "output_type": "stream",
          "name": "stdout",
          "text": [
            "[False False False ... False False False]\n"
          ]
        }
      ]
    },
    {
      "cell_type": "code",
      "execution_count": 49,
      "metadata": {
        "colab": {
          "base_uri": "https://localhost:8080/",
          "height": 1000
        },
        "id": "Rkoj3UU2cZLc",
        "outputId": "46159d04-0f29-4cbd-f957-e0f67ed2de5b"
      },
      "outputs": [
        {
          "output_type": "stream",
          "name": "stdout",
          "text": [
            "Data for A:\n",
            "[[ 0.   50.  ]\n",
            " [ 0.   50.5 ]\n",
            " [ 0.   51.  ]\n",
            " ...\n",
            " [23.75 88.5 ]\n",
            " [23.75 89.  ]\n",
            " [23.75 89.5 ]]\n",
            "[False False False ... False False False]\n"
          ]
        },
        {
          "output_type": "display_data",
          "data": {
            "text/plain": [
              "<Figure size 400x400 with 1 Axes>"
            ],
            "image/png": "[encoded data removed]"
          },
          "metadata": {}
        },
        {
          "output_type": "stream",
          "name": "stdout",
          "text": [
            "Data for B:\n",
            "[[0.55 0.55]\n",
            " [0.65 0.65]\n",
            " [0.45 0.45]\n",
            " [0.35 0.35]\n",
            " [0.25 0.25]\n",
            " [0.15 0.15]]\n",
            "[ True  True  True  True  True False]\n"
          ]
        },
        {
          "output_type": "display_data",
          "data": {
            "text/plain": [
              "<Figure size 400x400 with 1 Axes>"
            ],
            "image/png": "[encoded data removed]"
          },
          "metadata": {}
        },
        {
          "output_type": "stream",
          "name": "stdout",
          "text": [
            "Plotting A and B on same graph\n"
          ]
        },
        {
          "output_type": "display_data",
          "data": {
            "text/plain": [
              "<Figure size 400x400 with 1 Axes>"
            ],
            "image/png": "[encoded data removed]"
          },
          "metadata": {}
        },
        {
          "output_type": "stream",
          "name": "stdout",
          "text": [
            "Concatendated A and B data (6/23/2024: just using A):\n",
            "[[ 0.   50.  ]\n",
            " [ 0.   50.5 ]\n",
            " [ 0.   51.  ]\n",
            " ...\n",
            " [23.75 88.5 ]\n",
            " [23.75 89.  ]\n",
            " [23.75 89.5 ]]\n",
            "[False False False ... False False False]\n",
            "<_BatchDataset element_spec=(TensorSpec(shape=(None, 2), dtype=tf.float64, name=None), TensorSpec(shape=(None,), dtype=tf.bool, name=None))>\n",
            "<_BatchDataset element_spec=(TensorSpec(shape=(None, 2), dtype=tf.float64, name=None), TensorSpec(shape=(None,), dtype=tf.bool, name=None))>\n"
          ]
        },
        {
          "output_type": "display_data",
          "data": {
            "text/plain": [
              "<Figure size 400x400 with 1 Axes>"
            ],
            "image/png": "[encoded data removed]"
          },
          "metadata": {}
        }
      ],
      "source": [
        "batch_size= 64 # previously 64\n",
        "nr_samples = 7680 # previously 100\n",
        "half_nr_samples = 6 # no longer used? Only used when randomizing test data?\n",
        "nr_samples_train = 100 # 5760 # previously 50 E.M. - Why no nr_samples_test ?\n",
        "# data = np.random.uniform([0,0],[1,1],(half_nr_samples,2))\n",
        "# data from eflux file (see above): data    = np.array([[0.5,0.5],[0.6,0.6],[0.4,0.4],[0.3,0.3],[0.2,0.2],[0.1,0.1]],  dtype=float)\n",
        "\n",
        "# Data for A from eflux file on GitHub\n",
        "print(\"Data for A:\")\n",
        "print(data) # Added E.M.\n",
        "# E.M. Changed from [.5,.5] to [.5,1] below:\n",
        "# labels from eflux file (see above): labels = np.sum(np.square(data-[.5,.5]),axis=1)<.09\n",
        "# This doesn't work. Error: label needs to be integer or boolean: labels = np.sum(np.square(data-[.5,.5]),axis=1)\n",
        "print(labels) # Added E.M.\n",
        "\n",
        "plt.figure(figsize=(4,4))\n",
        "plt.scatter(data[labels][:,0],data[labels][:,1],label='A')\n",
        "plt.scatter(data[np.logical_not(labels)][:,0],data[np.logical_not(labels)][:,1],label='~A')\n",
        "\n",
        "#plt.scatter(data_b[labels_b][:,0],data_b[labels_b][:,1],label='B')\n",
        "#plt.scatter(data_b[np.logical_not(labels_b)][:,0],data_b[np.logical_not(labels_b)][:,1],label='~B')\n",
        "\n",
        "plt.title(\"Groundtruth\")\n",
        "plt.legend()\n",
        "plt.show()\n",
        "\n",
        "# Test points for B dataset\n",
        "print(\"Data for B:\")\n",
        "# data_b = np.random.uniform([0,0],[1,1],(half_nr_samples,2))\n",
        "data_b    = np.array([[0.55,0.55],[0.65,0.65],[0.45,0.45],[0.35,0.35],[0.25,0.25],[0.15,0.15]],  dtype=float)\n",
        "print(data_b) # Added E.M.\n",
        "# E.M. Changed from [.5,.5] to [.5,1] below:\n",
        "labels_b = np.sum(np.square(data_b-[.5,.5]),axis=1)<.16\n",
        "# This doesn't work. Error: label needs to be integer or boolean: labels = np.sum(np.square(data-[.5,.5]),axis=1)\n",
        "print(labels_b) # Added E.M.\n",
        "\n",
        "plt.figure(figsize=(4,4))\n",
        "#plt.scatter(data[labels][:,0],data[labels][:,1],label='A')\n",
        "#plt.scatter(data[np.logical_not(labels)][:,0],data[np.logical_not(labels)][:,1],label='~A')\n",
        "\n",
        "plt.scatter(data_b[labels_b][:,0],data_b[labels_b][:,1],label='B')\n",
        "plt.scatter(data_b[np.logical_not(labels_b)][:,0],data_b[np.logical_not(labels_b)][:,1],label='~B')\n",
        "\n",
        "plt.title(\"Groundtruth\")\n",
        "plt.legend()\n",
        "plt.show()\n",
        "\n",
        "print(\"Plotting A and B on same graph\")\n",
        "\n",
        "plt.figure(figsize=(4,4))\n",
        "plt.scatter(data[labels][:,0],data[labels][:,1],label='A')\n",
        "plt.scatter(data[np.logical_not(labels)][:,0],data[np.logical_not(labels)][:,1],label='~A')\n",
        "\n",
        "plt.scatter(data_b[labels_b][:,0],data_b[labels_b][:,1],label='B')\n",
        "plt.scatter(data_b[np.logical_not(labels_b)][:,0],data_b[np.logical_not(labels_b)][:,1],label='~B')\n",
        "\n",
        "plt.title(\"Groundtruth\")\n",
        "plt.legend()\n",
        "plt.show()\n",
        "\n",
        "print(\"Concatendated A and B data (6/23/2024: just using A):\")\n",
        "#data = np.concatenate((data, data_b))\n",
        "#labels = np.concatenate((labels, labels_b))\n",
        "\n",
        "print(data)\n",
        "print(labels)\n",
        "\n",
        "# Below comment doesn't seem to match program\n",
        "# 400 examples for training; 100 examples for training\n",
        "# See https://www.tensorflow.org/tutorials/load_data/numpy\n",
        "# See https://www.tensorflow.org/guide/data\n",
        "ds_train = tf.data.Dataset\\\n",
        "        .from_tensor_slices((data[:nr_samples_train],labels[:nr_samples_train]))\\\n",
        "        .batch(batch_size)\n",
        "print (ds_train) # Added E. M\n",
        "ds_test = tf.data.Dataset\\\n",
        "        .from_tensor_slices((data[nr_samples_train:],labels[nr_samples_train:]))\\\n",
        "        .batch(batch_size)\n",
        "print (ds_test) # Added E. M\n",
        "plt.figure(figsize=(4,4))\n",
        "plt.scatter(data[labels][:,0],data[labels][:,1],label='A')\n",
        "plt.scatter(data[np.logical_not(labels)][:,0],data[np.logical_not(labels)][:,1],label='~A')\n",
        "\n",
        "#plt.scatter(data_b[labels_b][:,0],data_b[labels_b][:,1],label='B')\n",
        "#plt.scatter(data_b[np.logical_not(labels_b)][:,0],data_b[np.logical_not(labels_b)][:,1],label='~B')\n",
        "\n",
        "\n",
        "\n",
        "plt.title(\"Groundtruth\")\n",
        "plt.legend()\n",
        "plt.show()\n"
      ]
    },
    {
      "cell_type": "markdown",
      "metadata": {
        "id": "rNRobThJcZLc"
      },
      "source": [
        "Define the predicate $A$. $A$ has arity 1 (single argument). The dimension of the argument is 2 (since the domain is $[0,1]^2$)."
      ]
    },
    {
      "cell_type": "code",
      "execution_count": 50,
      "metadata": {
        "id": "024pOSQucZLc"
      },
      "outputs": [],
      "source": [
        "A = ltn.Predicate.MLP([2],hidden_layer_sizes=(16,16))\n",
        "#A = ltn.Predicate.MLP([2],hidden_layer_sizes=(2,))"
      ]
    },
    {
      "cell_type": "markdown",
      "metadata": {
        "id": "HMEaTsV8cZLd"
      },
      "source": [
        "Import some operators to write the axioms."
      ]
    },
    {
      "cell_type": "code",
      "execution_count": 51,
      "metadata": {
        "id": "HrmpodK0cZLd"
      },
      "outputs": [],
      "source": [
        "Not = ltn.Wrapper_Connective(ltn.fuzzy_ops.Not_Std())\n",
        "And = ltn.Wrapper_Connective(ltn.fuzzy_ops.And_Prod())\n",
        "Or = ltn.Wrapper_Connective(ltn.fuzzy_ops.Or_ProbSum())\n",
        "Implies = ltn.Wrapper_Connective(ltn.fuzzy_ops.Implies_Reichenbach())\n",
        "Forall = ltn.Wrapper_Quantifier(ltn.fuzzy_ops.Aggreg_pMeanError(p=2),semantics=\"forall\")\n",
        "Exists = ltn.Wrapper_Quantifier(ltn.fuzzy_ops.Aggreg_pMean(p=2),semantics=\"exists\")"
      ]
    },
    {
      "cell_type": "markdown",
      "metadata": {
        "id": "XJ4TlDRCcZLd"
      },
      "source": [
        "Now we add some facts to the knowledgebase. We express that for all points in $\\mathrm{data\\_A}$, $A$ should be true. For all points in $\\mathrm{data\\_not\\_A}$, $A$ is not true."
      ]
    },
    {
      "cell_type": "code",
      "execution_count": 52,
      "metadata": {
        "id": "-Kv1gkqbcZLd"
      },
      "outputs": [],
      "source": [
        "formula_aggregator = ltn.Wrapper_Formula_Aggregator(ltn.fuzzy_ops.Aggreg_pMeanError(p=2))\n",
        "\n",
        "@tf.function\n",
        "def axioms(data, labels):\n",
        "    x_A = ltn.Variable(\"x_A\",data[labels])\n",
        "    x_not_A = ltn.Variable(\"x_not_A\",data[tf.logical_not(labels)])\n",
        "   # x_B = ltn.Variable(\"x_B\",data_b[labels_b])\n",
        "   # x_not_B = ltn.Variable(\"x_not_B\",data_b[tf.logical_not(labels_b)])\n",
        "    axioms = [\n",
        "        Forall(x_A, A(x_A)),\n",
        "        Forall(x_not_A, Not(A(x_not_A)))\n",
        "    ]\n",
        "    sat_level = formula_aggregator(axioms).tensor\n",
        "    return sat_level"
      ]
    },
    {
      "cell_type": "markdown",
      "metadata": {
        "id": "XbSSo-OEcZLd"
      },
      "source": [
        "Initialize all layers and the static graph."
      ]
    },
    {
      "cell_type": "code",
      "execution_count": 53,
      "metadata": {
        "colab": {
          "base_uri": "https://localhost:8080/"
        },
        "id": "MkQc89ZbcZLd",
        "outputId": "fef796ed-f02d-4b49-e81d-a2e408d22eee"
      },
      "outputs": [
        {
          "output_type": "stream",
          "name": "stdout",
          "text": [
            "Initial sat level 0.29289\n"
          ]
        }
      ],
      "source": [
        "for _data, _labels in ds_test:\n",
        "    print(\"Initial sat level %.5f\"%axioms(_data, _labels))\n",
        "    break\n"
      ]
    },
    {
      "cell_type": "markdown",
      "metadata": {
        "id": "Hum33XKicZLd"
      },
      "source": [
        "Train on the knowledgebase."
      ]
    },
    {
      "cell_type": "code",
      "execution_count": 54,
      "metadata": {
        "colab": {
          "base_uri": "https://localhost:8080/"
        },
        "id": "cOJFUT8McZLd",
        "outputId": "bbbce81c-c1bf-4251-ae01-f866fb6c1b1e"
      },
      "outputs": [
        {
          "output_type": "stream",
          "name": "stdout",
          "text": [
            "Epoch 0: Sat Level nan\n",
            "Epoch 100: Sat Level nan\n",
            "Epoch 200: Sat Level nan\n",
            "Epoch 300: Sat Level nan\n",
            "Epoch 400: Sat Level nan\n",
            "Epoch 500: Sat Level nan\n",
            "Epoch 600: Sat Level nan\n",
            "Epoch 700: Sat Level nan\n",
            "Epoch 800: Sat Level nan\n",
            "Epoch 900: Sat Level nan\n",
            "Epoch 1000: Sat Level nan\n",
            "Epoch 1100: Sat Level nan\n",
            "Epoch 1200: Sat Level nan\n",
            "Epoch 1300: Sat Level nan\n",
            "Epoch 1400: Sat Level nan\n",
            "Epoch 1500: Sat Level nan\n",
            "Epoch 1600: Sat Level nan\n",
            "Epoch 1700: Sat Level nan\n",
            "Epoch 1800: Sat Level nan\n",
            "Epoch 1900: Sat Level nan\n",
            "Training finished at Epoch 1999 with Sat Level nan\n"
          ]
        }
      ],
      "source": [
        "mean_metrics = tf.keras.metrics.Mean()\n",
        "\n",
        "trainable_variables = A.trainable_variables\n",
        "optimizer = tf.keras.optimizers.Adam(learning_rate=0.001)\n",
        "for epoch in range(2000):\n",
        "    for _data, _labels in ds_train:\n",
        "        with tf.GradientTape() as tape:\n",
        "            loss = 1. - axioms(_data, _labels)\n",
        "        grads = tape.gradient(loss, trainable_variables)\n",
        "        optimizer.apply_gradients(zip(grads, trainable_variables))\n",
        "    if epoch%100 == 0:\n",
        "        mean_metrics.reset_states()\n",
        "        for _data, _labels in ds_test:\n",
        "            mean_metrics(axioms(_data, _labels))\n",
        "        print(\"Epoch %d: Sat Level %.3f\"%(epoch, mean_metrics.result() ))\n",
        "mean_metrics.reset_states()\n",
        "for _data, _labels in ds_test:\n",
        "    mean_metrics(axioms(_data, _labels))\n",
        "print(\"Training finished at Epoch %d with Sat Level %.3f\"%(epoch, mean_metrics.result() ))"
      ]
    },
    {
      "cell_type": "markdown",
      "metadata": {
        "id": "gV532W2QcZLe"
      },
      "source": [
        "The following queries the database on training data and test data. Vizualisation show the extent of generalization."
      ]
    },
    {
      "cell_type": "code",
      "execution_count": 55,
      "metadata": {
        "colab": {
          "base_uri": "https://localhost:8080/",
          "height": 935
        },
        "id": "g5Ej-OUhcZLe",
        "outputId": "661d7463-6a27-4e6e-8f71-92e218ad69a0"
      },
      "outputs": [
        {
          "output_type": "display_data",
          "data": {
            "text/plain": [
              "<Figure size 900x1100 with 9 Axes>"
            ],
            "image/png": "[encoded data removed]"
          },
          "metadata": {}
        }
      ],
      "source": [
        "fig = plt.figure(figsize=(9, 11))\n",
        "\n",
        "plt.subplots_adjust(wspace=0.2,hspace=0.3)\n",
        "ax = plt.subplot2grid((3,8),(0,2),colspan=4)\n",
        "ax.set_title(\"groundtruth\")\n",
        "ax.scatter(data[labels][:,0],data[labels][:,1],label='A')\n",
        "ax.scatter(data[np.logical_not(labels)][:,0],data[np.logical_not(labels)][:,1],label='~A')\n",
        "ax.legend()\n",
        "\n",
        "# Training data\n",
        "x = ltn.Variable(\"x\",data[:nr_samples_train])\n",
        "fig.add_subplot(3, 2, 3)\n",
        "result=A(x)\n",
        "plt.title(\"A(x) - training data\")\n",
        "plt.scatter(data[:nr_samples_train,0],data[:nr_samples_train,1],c=result.tensor.numpy().squeeze())\n",
        "plt.colorbar()\n",
        "\n",
        "fig.add_subplot(3, 2, 4)\n",
        "result=Not(A(x))\n",
        "plt.title(\"~A(x) - training data\")\n",
        "plt.scatter(data[:nr_samples_train,0],data[:nr_samples_train,1],c=result.tensor.numpy().squeeze())\n",
        "plt.colorbar()\n",
        "\n",
        "# Test data\n",
        "x = ltn.Variable(\"x\",data[nr_samples_train:])\n",
        "fig.add_subplot(3, 2, 5)\n",
        "\n",
        "result=A(x)\n",
        "plt.title(\"A(x) - test data\")\n",
        "plt.scatter(data[nr_samples_train:,0],data[nr_samples_train:,1],c=result.tensor.numpy().squeeze())\n",
        "plt.colorbar()\n",
        "\n",
        "fig.add_subplot(3, 2, 6)\n",
        "result=Not(A(x))\n",
        "plt.title(\"~A(x) - test data\")\n",
        "plt.scatter(data[nr_samples_train:,0],data[nr_samples_train:,1],c=result.tensor.numpy().squeeze())\n",
        "plt.colorbar()\n",
        "plt.savefig(\"ex_binary_testing.pdf\")\n",
        "plt.show()"
      ]
    },
    {
      "cell_type": "code",
      "execution_count": null,
      "metadata": {
        "id": "4Z2C2XUkcZLe"
      },
      "outputs": [],
      "source": []
    }
  ],
  "metadata": {
    "interpreter": {
      "hash": "889985fd10eb245a43f2ae5f5aa0c555254f5b898fe16071f1c89d06fa8d76a2"
    },
    "kernelspec": {
      "display_name": "Python 3.9.6 64-bit ('tf-py39': conda)",
      "name": "python3"
    },
    "language_info": {
      "codemirror_mode": {
        "name": "ipython",
        "version": 3
      },
      "file_extension": ".py",
      "mimetype": "text/x-python",
      "name": "python",
      "nbconvert_exporter": "python",
      "pygments_lexer": "ipython3",
      "version": "3.9.6"
    },
    "colab": {
      "provenance": []
    }
  },
  "nbformat": 4,
  "nbformat_minor": 0
}