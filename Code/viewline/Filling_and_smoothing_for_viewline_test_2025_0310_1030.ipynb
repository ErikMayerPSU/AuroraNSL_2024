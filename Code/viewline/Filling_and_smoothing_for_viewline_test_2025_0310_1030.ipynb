{
  "nbformat": 4,
  "nbformat_minor": 0,
  "metadata": {
    "colab": {
      "provenance": [],
      "authorship_tag": "ABX9TyNrwPt8hYZFqqB6jc98HUoG",
      "include_colab_link": true
    },
    "kernelspec": {
      "name": "python3",
      "display_name": "Python 3"
    },
    "language_info": {
      "name": "python"
    }
  },
  "cells": [
    {
      "cell_type": "markdown",
      "metadata": {
        "id": "view-in-github",
        "colab_type": "text"
      },
      "source": [
        "<a href=\"https://colab.research.google.com/github/ErikMayerPSU/AuroraNSL_2024/blob/main/Code/viewline/Filling_and_smoothing_for_viewline_test_2025_0310_1030.ipynb\" target=\"_parent\"><img src=\"https://colab.research.google.com/assets/colab-badge.svg\" alt=\"Open In Colab\"/></a>"
      ]
    },
    {
      "cell_type": "markdown",
      "source": [
        "Testing df.interpolate as possible method for filling/smoothing the viewline prior to filling in visibility between veiwline and 90 degrees MLAT\n",
        "\n",
        "https://runebook.dev/en/articles/pandas/reference/api/pandas.dataframe.interpolate"
      ],
      "metadata": {
        "id": "2Jfl8lnM2nUH"
      }
    },
    {
      "cell_type": "code",
      "execution_count": 7,
      "metadata": {
        "colab": {
          "base_uri": "https://localhost:8080/"
        },
        "id": "geafP5oLvTY4",
        "outputId": "89a6c02d-9937-4ed2-8e73-218a5ed10f1f"
      },
      "outputs": [
        {
          "output_type": "stream",
          "name": "stdout",
          "text": [
            "start\n",
            "   A  B  C  D  E\n",
            "0  0  0  0  0  0\n",
            "1  0  0  0  0  0\n",
            "2  1  0  0  0  1\n",
            "3  0  1  0  1  0\n",
            "4  0  0  0  0  0\n",
            "5  0  0  0  0  0\n",
            "6  0  0  0  0  0\n",
            "remove 0's\n",
            "     A    B   C    D    E\n",
            "0  NaN  NaN NaN  NaN  NaN\n",
            "1  NaN  NaN NaN  NaN  NaN\n",
            "2  1.0  NaN NaN  NaN  1.0\n",
            "3  NaN  1.0 NaN  1.0  NaN\n",
            "4  NaN  NaN NaN  NaN  NaN\n",
            "5  NaN  NaN NaN  NaN  NaN\n",
            "6  NaN  NaN NaN  NaN  NaN\n",
            "fill in empty columns\n",
            "     A    B    C    D    E\n",
            "0  NaN  NaN  NaN  NaN  NaN\n",
            "1  NaN  NaN  NaN  NaN  NaN\n",
            "2  1.0  1.0  1.0  1.0  1.0\n",
            "3  NaN  1.0  1.0  1.0  1.0\n",
            "4  NaN  NaN  NaN  NaN  NaN\n",
            "5  NaN  NaN  NaN  NaN  NaN\n",
            "6  NaN  NaN  NaN  NaN  NaN\n",
            "add 0's back\n",
            "     A    B    C    D    E\n",
            "0  0.0  0.0  0.0  0.0  0.0\n",
            "1  0.0  0.0  0.0  0.0  0.0\n",
            "2  1.0  1.0  1.0  1.0  1.0\n",
            "3  0.0  1.0  1.0  1.0  1.0\n",
            "4  0.0  0.0  0.0  0.0  0.0\n",
            "5  0.0  0.0  0.0  0.0  0.0\n",
            "6  0.0  0.0  0.0  0.0  0.0\n"
          ]
        }
      ],
      "source": [
        "import pandas as pd\n",
        "import numpy as np\n",
        "\n",
        "data = {'A': [0, 0, 1, 0, 0, 0, 0], 'B': [0, 0, 0, 1, 0, 0, 0], 'C': [0, 0, 0, 0, 0, 0, 0], 'D': [0, 0, 0, 1, 0, 0, 0], 'E': [0, 0, 1, 0, 0, 0, 0]}\n",
        "df = pd.DataFrame(data)\n",
        "print(\"start\")\n",
        "print(df)\n",
        "\n",
        "df.replace(0, np.nan, inplace=True)\n",
        "print(\"remove 0's\")\n",
        "print(df)\n",
        "\n",
        "\n",
        "# Fill missing values in each column (axis=0) using linear interpolation\n",
        "df_filled = df.interpolate(method='linear', axis=1)\n",
        "print(\"fill in empty columns\")\n",
        "print(df_filled)\n",
        "\n",
        "df_filled.replace(np.nan, 0, inplace=True)\n",
        "print(\"add 0's back\")\n",
        "print(df_filled)\n"
      ]
    }
  ]
}